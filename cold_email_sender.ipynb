{
 "cells": [
  {
   "cell_type": "code",
   "execution_count": 117,
   "id": "bfcc175b",
   "metadata": {},
   "outputs": [],
   "source": [
    "import smtplib\n",
    "from email.mime.multipart import MIMEMultipart\n",
    "from email.mime.text import MIMEText\n",
    "from email.mime.application import MIMEApplication\n",
    "import pandas as pd\n",
    "from mail_templates import mern_cold_mail\n",
    "import csv"
   ]
  },
  {
   "cell_type": "code",
   "execution_count": 118,
   "id": "58c36fbe-20e8-4715-9cc2-e54debbd49b4",
   "metadata": {},
   "outputs": [],
   "source": [
    "def create_mail(job_role, employee_name, sender_email, recipient_email, company_name, your_name, years_of_experience, phone_number, path_to_resume):\n",
    "    message = MIMEMultipart()\n",
    "\n",
    "    subject = \"Seeking Opportunities in {job_role}\".format(job_role=job_role)\n",
    "    message['Subject'] = subject\n",
    "    message['From'] = sender_email\n",
    "    message['To'] = recipient_email\n",
    "    \n",
    "    body = mern_cold_mail\n",
    "    formatted_body = body.format(\n",
    "        employee_name=employee_name.upper(),\n",
    "        company_name=company_name,\n",
    "        job_role=job_role,\n",
    "        your_name=your_name,\n",
    "        years_of_experience=years_of_experience,\n",
    "        phone_number=phone_number\n",
    "    )\n",
    "    \n",
    "    body_part = MIMEText(formatted_body)\n",
    "    message.attach(body_part)\n",
    "\n",
    "    # Attach Resume File with body.\n",
    "    with open(path_to_resume,'rb') as file:\n",
    "        message.attach(MIMEApplication(file.read(), Name=f\"{your_name}_Resume.pdf\"))\n",
    "        \n",
    "    return message.as_string()    "
   ]
  },
  {
   "cell_type": "code",
   "execution_count": null,
   "id": "bb6e2d53",
   "metadata": {},
   "outputs": [],
   "source": [
    "def main():\n",
    "    # sr_no,company_name,status,contact_person,contact_no,email_id,ctc\n",
    "    \n",
    "    sent_df = pd.DataFrame(columns=[\"Email\", \"Remark\", \"CompanyName\"])\n",
    "    error_df = pd.DataFrame(columns=[\"Email\", \"Remark\", \"CompanyName\"])\n",
    "    \n",
    "    # with open('emails_and_employees.csv', 'w', newline='') as file:\n",
    "    #     writer = csv.writer(file)\n",
    "    #     writer.writerow(['Email', 'Employee Name'])\n",
    "    with smtplib.SMTP_SSL(smtp_server, smtp_port) as server:\n",
    "        server.login(sender_email, sender_password)\n",
    "        for index, row in hr_contact[1:].iterrows():\n",
    "            email_list = [email.strip() for email in row[\"email_id\"].split(\",\")]\n",
    "            employee_list = [person.strip() for person in row['contact_person'].split(\",\")]\n",
    "            for index2, email in enumerate(email_list):\n",
    "                # writer.writerow([email, employee_list[index2]])\n",
    "                try:\n",
    "                    mail_body = create_mail(job_role, employee_list[index2], sender_email, email, row[\"company_name\"], your_name, years_of_experience, phone_number, path_to_resume)\n",
    "                    # server.sendmail(sender_email, email, mail_body)\n",
    "                except Exception as e:\n",
    "                    print(e)\n",
    "                    error_df = pd.concat([\n",
    "                        error_df, \n",
    "                        pd.DataFrame([{\n",
    "                                \"Email\": email, \n",
    "                                \"Remark\": str(e),\n",
    "                                \"CompanyName\": row['company_name'],\n",
    "                            }\n",
    "                        ]\n",
    "                    )], ignore_index=True)\n",
    "                else:\n",
    "                    sent_df = pd.concat([\n",
    "                        sent_df,\n",
    "                        pd.DataFrame([{\n",
    "                                \"Email\": email, \n",
    "                                \"Remark\": \"Email Sent\",\n",
    "                                \"CompanyName\": row['company_name'], \n",
    "                            }\n",
    "                        ]\n",
    "                    )], ignore_index=True)\n",
    "\n",
    "        sent_df.to_csv(\"my_logs/emails_sent.csv\", index=False)\n",
    "        error_df.to_csv(\"my_logs/email_errors.csv\", index=False)"
   ]
  },
  {
   "cell_type": "code",
   "execution_count": 120,
   "id": "10a53c57-fbfc-406e-85f7-56c1d4ae416f",
   "metadata": {},
   "outputs": [
    {
     "name": "stdout",
     "output_type": "stream",
     "text": [
      "{'training ynr@isgec.com': (553, b'5.1.3 The recipient address <training ynr@isgec.com> is not a valid RFC 5321\\n5.1.3 address. For more information, go to\\n5.1.3  https://support.google.com/a/answer/3221692 and review RFC 5321\\n5.1.3 specifications. d9443c01a7336-215219862c1sm27178255ad.214 - gsmtp')}\n",
      "{'psachdeva.iv.in': (553, b'5.1.3 The recipient address <psachdeva.iv.in> is not a valid RFC 5321\\n5.1.3 address. For more information, go to\\n5.1.3  https://support.google.com/a/answer/3221692 and review RFC 5321\\n5.1.3 specifications. d9443c01a7336-215219862c1sm27178255ad.214 - gsmtp')}\n",
      "{'disha.chahar@antino.com/careers@antino.com': (553, b'5.1.3 The recipient address <disha.chahar@antino.com/careers@antino.com> is\\n5.1.3 not a valid RFC 5321 address. For more information, go to\\n5.1.3  https://support.google.com/a/answer/3221692 and review RFC 5321\\n5.1.3 specifications. d9443c01a7336-215219862c1sm27178255ad.214 - gsmtp')}\n",
      "{'bhagyalakshme.narayanan2larsentoubro.com': (553, b'5.1.3 The recipient address <bhagyalakshme.narayanan2larsentoubro.com> is\\n5.1.3 not a valid RFC 5321 address. For more information, go to\\n5.1.3  https://support.google.com/a/answer/3221692 and review RFC 5321\\n5.1.3 specifications. d9443c01a7336-215219862c1sm27178255ad.214 - gsmtp')}\n",
      "{'ccd': (553, b'5.1.3 The recipient address <ccd> is not a valid RFC 5321 address. For more\\n5.1.3 information, go to\\n5.1.3  https://support.google.com/a/answer/3221692 and review RFC 5321\\n5.1.3 specifications. d9443c01a7336-215219862c1sm27178255ad.214 - gsmtp')}\n",
      "{'hr@chandigarh@allen.in': (553, b'5.1.3 The recipient address <hr@chandigarh@allen.in> is not a valid RFC 5321\\n5.1.3 address. For more information, go to\\n5.1.3  https://support.google.com/a/answer/3221692 and review RFC 5321\\n5.1.3 specifications. d9443c01a7336-215219862c1sm27178255ad.214 - gsmtp')}\n",
      "{'abhishek.upadhyay@@subros.com': (553, b'5.1.3 The recipient address <abhishek.upadhyay@@subros.com> is not a valid\\n5.1.3 RFC 5321 address. For more information, go to\\n5.1.3  https://support.google.com/a/answer/3221692 and review RFC 5321\\n5.1.3 specifications. d9443c01a7336-215219862c1sm27178255ad.214 - gsmtp')}\n",
      "{'palvi.bchindia.com': (553, b'5.1.3 The recipient address <palvi.bchindia.com> is not a valid RFC 5321\\n5.1.3 address. For more information, go to\\n5.1.3  https://support.google.com/a/answer/3221692 and review RFC 5321\\n5.1.3 specifications. d9443c01a7336-215219862c1sm27178255ad.214 - gsmtp')}\n",
      "{'-': (553, b'5.1.3 The recipient address <-> is not a valid RFC 5321 address. For more\\n5.1.3 information, go to\\n5.1.3  https://support.google.com/a/answer/3221692 and review RFC 5321\\n5.1.3 specifications. d9443c01a7336-215219862c1sm27178255ad.214 - gsmtp')}\n"
     ]
    }
   ],
   "source": [
    "hr_contact = pd.read_csv(\"csvs2/JNF_list.csv\")\n",
    "\n",
    "job_role = \"Software Development\"\n",
    "\n",
    "sender_email = \"singhalsuryansh.0306@gmail.com\"\n",
    "your_name = \"Suryansh Singhal\"\n",
    "years_of_experience = 1\n",
    "phone_number = \"+91-9837490573\"\n",
    "\n",
    "path_to_resume = 'Suryansh_Singhal_Resume.pdf'\n",
    "\n",
    "\n",
    "sender_password = \"avtm sscz xned tdjn\"\n",
    "smtp_server = 'smtp.gmail.com'\n",
    "smtp_port = 465\n",
    "\n",
    "main()"
   ]
  }
 ],
 "metadata": {
  "kernelspec": {
   "display_name": "base",
   "language": "python",
   "name": "python3"
  },
  "language_info": {
   "codemirror_mode": {
    "name": "ipython",
    "version": 3
   },
   "file_extension": ".py",
   "mimetype": "text/x-python",
   "name": "python",
   "nbconvert_exporter": "python",
   "pygments_lexer": "ipython3",
   "version": "3.10.14"
  }
 },
 "nbformat": 4,
 "nbformat_minor": 5
}
