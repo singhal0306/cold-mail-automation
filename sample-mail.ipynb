{
 "cells": [
  {
   "cell_type": "code",
   "execution_count": 3,
   "metadata": {},
   "outputs": [],
   "source": [
    "import smtplib\n",
    "from email.mime.multipart import MIMEMultipart\n",
    "from email.mime.text import MIMEText\n",
    "from email.mime.application import MIMEApplication"
   ]
  },
  {
   "cell_type": "code",
   "execution_count": null,
   "metadata": {},
   "outputs": [],
   "source": [
    "smtp_server = 'smtp.gmail.com'\n",
    "sender_password = \"avtm sscz xned tdjn\"\n",
    "smtp_port = 465\n",
    "\n",
    "\n",
    "subject = \"Exploring MERN Developer Opportunities - Referral Request\"\n",
    "sender_email = \"singhalsuryansh.0306@gmail.com\"\n",
    "recipient_email = \"badpcsuryansh@gmail.com\"\n",
    "\n",
    "path_to_resume = 'Suryansh_Singhal_Resume1.pdf'\n",
    "\n",
    "# message init\n",
    "message = MIMEMultipart()\n",
    "\n",
    "message['Subject'] = subject\n",
    "message['From'] = sender_email\n",
    "message['To'] = recipient_email\n",
    "\n",
    "your_name = \"Suryansh Singhal\"\n",
    "company_name = \"Suryansh Singhal\"\n",
    "years_of_experience= 1\n",
    "phone_number=\"+91-9837490573\"\n",
    "\n",
    "body = \"\"\"\n",
    "Dear {employee_name},\n",
    "\n",
    "I hope this email finds you well.\n",
    "\n",
    "I am {your_name}, an experienced Java developer with over {years_of_experience} years of hands-on experience in the Spring Boot framework. I am currently exploring new job opportunities and would like to inquire if there are any available openings at {company_name} that would align with my skill set.\n",
    "\n",
    "In my previous roles, I have worked on developing scalable and high-performance applications using Spring Boot, integrated various databases, and built microservices solutions. I believe that my background and passion for technology would allow me to make meaningful contributions to your team at {company_name}.\n",
    "\n",
    "I have attached my resume for your reference, and I would appreciate any guidance or assistance you could offer regarding potential openings or referrals within the company. If you would like more details about my experience or skills, I would be happy to discuss them further at your convenience.\n",
    "\n",
    "Thank you for considering my request. I look forward to the possibility of working with you and contributing to {company_name}'s continued success.\n",
    "\n",
    "Best regards,  \n",
    "{your_name}  \n",
    "{phone_number}\n",
    "\"\"\".format(\n",
    "    employee_name=\"sir/madam\",\n",
    "    your_name=your_name,\n",
    "    company_name=company_name,\n",
    "    years_of_experience=years_of_experience,\n",
    "    phone_number=phone_number\n",
    ")\n",
    "\n",
    "body_part = MIMEText(body)\n",
    "message.attach(body_part)\n",
    "\n",
    "# Attach Resume\n",
    "with open(path_to_resume,'rb') as file:\n",
    "    message.attach(\n",
    "        MIMEApplication(\n",
    "            file.read(), \n",
    "            Name=f'{your_name.upper().replace(\" \", \"_\")}_RESUME.pdf'\n",
    "        )\n",
    "    )\n",
    "\n",
    "# sending email\n",
    "with smtplib.SMTP_SSL(smtp_server, smtp_port) as server:\n",
    "   server.login(sender_email, sender_password)\n",
    "   server.sendmail(sender_email, recipient_email, message.as_string())"
   ]
  }
 ],
 "metadata": {
  "kernelspec": {
   "display_name": "base",
   "language": "python",
   "name": "python3"
  },
  "language_info": {
   "codemirror_mode": {
    "name": "ipython",
    "version": 3
   },
   "file_extension": ".py",
   "mimetype": "text/x-python",
   "name": "python",
   "nbconvert_exporter": "python",
   "pygments_lexer": "ipython3",
   "version": "3.10.14"
  }
 },
 "nbformat": 4,
 "nbformat_minor": 2
}
