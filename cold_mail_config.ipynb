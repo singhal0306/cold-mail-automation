{
 "cells": [
  {
   "cell_type": "code",
   "execution_count": null,
   "metadata": {},
   "outputs": [],
   "source": [
    "import pandas as pd\n",
    "\n",
    "excel_file_path=\"assets/INF-JNF-2023-24.xlsx\"\n",
    "\n",
    "excel_file = pd.ExcelFile(excel_file_path)\n",
    "sheet_name_list = excel_file.sheet_names\n",
    "print(sheet_name_list)"
   ]
  },
  {
   "cell_type": "code",
   "execution_count": null,
   "metadata": {},
   "outputs": [],
   "source": [
    "hr_list = pd.read_excel(excel_file_path, sheet_name=\"JNF\")\n",
    "hr_list.head()"
   ]
  },
  {
   "cell_type": "markdown",
   "metadata": {},
   "source": [
    "#### For All Sheets\n"
   ]
  },
  {
   "cell_type": "code",
   "execution_count": null,
   "metadata": {},
   "outputs": [],
   "source": [
    "for sheet_name in sheet_name_list:\n",
    "    hr_list = pd.read_excel(excel_file_path, sheet_name=sheet_name, header=1)\n",
    "    print(sheet_name)\n",
    "    hr_list = hr_list.dropna(axis=1, how='all')\n",
    "    hr_list = hr_list.reset_index(drop=True)\n",
    "    print(hr_list.head())\n",
    "    print(\"\")\n",
    "    # hr_list.to_csv(f\"all_sheets/{sheet_name}_list.csv\", index=False)\n"
   ]
  },
  {
   "cell_type": "markdown",
   "metadata": {},
   "source": [
    "#### For Sheet JNF\n"
   ]
  },
  {
   "cell_type": "code",
   "execution_count": null,
   "metadata": {},
   "outputs": [],
   "source": [
    "column_rename_mapping = [\"sr_no\", \"company_name\", \"pcc_assign\", \"spoc_mail\", \"status\", \"remarks\", \"contact_person\", \"contact_no\", \"email_id\", \"ug\", \"pg\", \"ctc\"]\n",
    "\n",
    "for sheet_name in sheet_name_list:\n",
    "    if sheet_name in [\"JNF\"]:\n",
    "        hr_list = pd.read_excel(excel_file_path, sheet_name=sheet_name)\n",
    "        hr_list = hr_list.iloc[1:].reset_index(drop=True)\n",
    "        \n",
    "        hr_list.columns = column_rename_mapping\n",
    "        \n",
    "        hr_list = hr_list.drop(columns=[\"pcc_assign\", \"spoc_mail\", \"remarks\", \"ug\", \"pg\"])\n",
    "        \n",
    "        hr_list = hr_list[hr_list['email_id'].notnull()]\n",
    "        \n",
    "        hr_list.to_csv(f\"csvs2/{sheet_name}_list.csv\", index=False)\n"
   ]
  },
  {
   "cell_type": "markdown",
   "metadata": {},
   "source": [
    "#### For Sheet INF\n"
   ]
  },
  {
   "cell_type": "code",
   "execution_count": null,
   "metadata": {},
   "outputs": [],
   "source": [
    "column_rename_mapping = [\n",
    "    \"sr_no\",\n",
    "    \"company_name\",\n",
    "    \"feedback_form_submit\",\n",
    "    \"pcc_icc_assign\",\n",
    "    \"status\",\n",
    "    \"remarks\",\n",
    "    \"contact_person\",\n",
    "    \"contact_no\",\n",
    "    \"email_id\",\n",
    "    \"ug\",\n",
    "    \"pg\",\n",
    "    \"stipend\"\n",
    "]\n",
    "\n",
    "\n",
    "for sheet_name in sheet_name_list:\n",
    "    if sheet_name in [\"INF\"]:\n",
    "        hr_list = pd.read_excel(excel_file_path, sheet_name=sheet_name)\n",
    "        hr_list = hr_list.iloc[1:].reset_index(drop=True)\n",
    "        \n",
    "        hr_list.columns = column_rename_mapping\n",
    "        \n",
    "        hr_list = hr_list.drop(columns=[\"feedback_form_submit\", \"status\", \"pcc_icc_assign\", \"remarks\", \"ug\", \"pg\"])\n",
    "        \n",
    "        hr_list = hr_list[hr_list['email_id'].notnull()]\n",
    "        \n",
    "        hr_list.to_csv(f\"csvs2/{sheet_name}_list.csv\", index=False)\n"
   ]
  }
 ],
 "metadata": {
  "kernelspec": {
   "display_name": "base",
   "language": "python",
   "name": "python3"
  },
  "language_info": {
   "codemirror_mode": {
    "name": "ipython",
    "version": 3
   },
   "file_extension": ".py",
   "mimetype": "text/x-python",
   "name": "python",
   "nbconvert_exporter": "python",
   "pygments_lexer": "ipython3",
   "version": "3.10.14"
  }
 },
 "nbformat": 4,
 "nbformat_minor": 2
}
